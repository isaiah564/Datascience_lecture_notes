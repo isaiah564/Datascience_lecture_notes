{
 "cells": [
  {
   "cell_type": "markdown",
   "id": "81f297d8",
   "metadata": {},
   "source": [
    "## Data pre processing in python"
   ]
  },
  {
   "cell_type": "markdown",
   "id": "9f68d193",
   "metadata": {},
   "source": [
    "data pre processing:\n",
    "this is the process of converting or mapping data from the initial \"raw\" form into another format, in order to prepare the data for further anlysis.data pre processing can also be called data cleaning or data wrangling."
   ]
  },
  {
   "cell_type": "markdown",
   "id": "21df7ee0",
   "metadata": {},
   "source": [
    "## Dealing with missing values"
   ]
  },
  {
   "cell_type": "code",
   "execution_count": 154,
   "id": "0015a71f",
   "metadata": {},
   "outputs": [],
   "source": [
    "## what are missing values\n",
    "## missing values occur for a variable(feature) in an operation. values can be represented by a \"?\",N/A or just a blank space or cell.\n",
    "## how to deal with missing data?\n",
    "## 1. check with the collection source.\n",
    "## 2. drop the missing values.\n",
    "## 3. replacing the missing values.\n",
    "## 4. leave the missing data \n",
    "## dropping missing values.\n",
    "import pandas as pd\n",
    "import numpy as np\n",
    "import matplotlib"
   ]
  },
  {
   "cell_type": "code",
   "execution_count": 65,
   "id": "26066fc5",
   "metadata": {},
   "outputs": [],
   "source": [
    "df=pd.DataFrame({\n",
    "    'population':[34.600,89.906,67.543,23.400,54.8],\n",
    "    'Gdp': [\n",
    "         \"\",\n",
    "        7557847,\n",
    "        5464774,\n",
    "        4664844,\n",
    "        7595784,\n",
    "    ],\n",
    "    'surface area': [\n",
    "        636736,\n",
    "        734794,\n",
    "        713893,\n",
    "        307330,\n",
    "        54321,\n",
    "    ],\n",
    "    'HDI': [\n",
    "        0.78,\n",
    "        0.87,\n",
    "        0.76,\n",
    "        0.32,\n",
    "        0.76,\n",
    "    ],\n",
    "    'continent':[\n",
    "        'America',\n",
    "        \"\",\n",
    "        'Europe',\n",
    "        'Europe',\n",
    "        'America',\n",
    "    ]\n",
    "}, columns=['population','Gdp','surface area','HDI','continent'])\n"
   ]
  },
  {
   "cell_type": "code",
   "execution_count": 134,
   "id": "ef9a50b8",
   "metadata": {},
   "outputs": [
    {
     "data": {
      "text/html": [
       "<div>\n",
       "<style scoped>\n",
       "    .dataframe tbody tr th:only-of-type {\n",
       "        vertical-align: middle;\n",
       "    }\n",
       "\n",
       "    .dataframe tbody tr th {\n",
       "        vertical-align: top;\n",
       "    }\n",
       "\n",
       "    .dataframe thead th {\n",
       "        text-align: right;\n",
       "    }\n",
       "</style>\n",
       "<table border=\"1\" class=\"dataframe\">\n",
       "  <thead>\n",
       "    <tr style=\"text-align: right;\">\n",
       "      <th></th>\n",
       "      <th>population</th>\n",
       "      <th>Gdp</th>\n",
       "      <th>surface area</th>\n",
       "      <th>HDI</th>\n",
       "      <th>continent</th>\n",
       "    </tr>\n",
       "  </thead>\n",
       "  <tbody>\n",
       "    <tr>\n",
       "      <th>1</th>\n",
       "      <td>1.0</td>\n",
       "      <td>7557847</td>\n",
       "      <td>0.000000</td>\n",
       "      <td>-0.152645</td>\n",
       "      <td>None</td>\n",
       "    </tr>\n",
       "    <tr>\n",
       "      <th>2</th>\n",
       "      <td>0.0</td>\n",
       "      <td>5464774</td>\n",
       "      <td>0.028445</td>\n",
       "      <td>-0.375357</td>\n",
       "      <td>Europe</td>\n",
       "    </tr>\n",
       "    <tr>\n",
       "      <th>3</th>\n",
       "      <td>0.0</td>\n",
       "      <td>4664844</td>\n",
       "      <td>0.581748</td>\n",
       "      <td>-2.041097</td>\n",
       "      <td>Europe</td>\n",
       "    </tr>\n",
       "    <tr>\n",
       "      <th>4</th>\n",
       "      <td>0.0</td>\n",
       "      <td>7595784</td>\n",
       "      <td>0.926074</td>\n",
       "      <td>-0.375357</td>\n",
       "      <td>America</td>\n",
       "    </tr>\n",
       "  </tbody>\n",
       "</table>\n",
       "</div>"
      ],
      "text/plain": [
       "   population      Gdp  surface area       HDI continent\n",
       "1         1.0  7557847      0.000000 -0.152645      None\n",
       "2         0.0  5464774      0.028445 -0.375357    Europe\n",
       "3         0.0  4664844      0.581748 -2.041097    Europe\n",
       "4         0.0  7595784      0.926074 -0.375357   America"
      ]
     },
     "execution_count": 134,
     "metadata": {},
     "output_type": "execute_result"
    }
   ],
   "source": [
    "df"
   ]
  },
  {
   "cell_type": "code",
   "execution_count": 135,
   "id": "45a1df5e",
   "metadata": {},
   "outputs": [
    {
     "data": {
      "text/html": [
       "<div>\n",
       "<style scoped>\n",
       "    .dataframe tbody tr th:only-of-type {\n",
       "        vertical-align: middle;\n",
       "    }\n",
       "\n",
       "    .dataframe tbody tr th {\n",
       "        vertical-align: top;\n",
       "    }\n",
       "\n",
       "    .dataframe thead th {\n",
       "        text-align: right;\n",
       "    }\n",
       "</style>\n",
       "<table border=\"1\" class=\"dataframe\">\n",
       "  <thead>\n",
       "    <tr style=\"text-align: right;\">\n",
       "      <th></th>\n",
       "      <th>population</th>\n",
       "      <th>Gdp</th>\n",
       "      <th>surface area</th>\n",
       "      <th>HDI</th>\n",
       "      <th>continent</th>\n",
       "    </tr>\n",
       "  </thead>\n",
       "  <tbody>\n",
       "    <tr>\n",
       "      <th>1</th>\n",
       "      <td>1.0</td>\n",
       "      <td>7557847</td>\n",
       "      <td>0.000000</td>\n",
       "      <td>-0.152645</td>\n",
       "      <td>None</td>\n",
       "    </tr>\n",
       "    <tr>\n",
       "      <th>2</th>\n",
       "      <td>0.0</td>\n",
       "      <td>5464774</td>\n",
       "      <td>0.028445</td>\n",
       "      <td>-0.375357</td>\n",
       "      <td>Europe</td>\n",
       "    </tr>\n",
       "    <tr>\n",
       "      <th>3</th>\n",
       "      <td>0.0</td>\n",
       "      <td>4664844</td>\n",
       "      <td>0.581748</td>\n",
       "      <td>-2.041097</td>\n",
       "      <td>Europe</td>\n",
       "    </tr>\n",
       "    <tr>\n",
       "      <th>4</th>\n",
       "      <td>0.0</td>\n",
       "      <td>7595784</td>\n",
       "      <td>0.926074</td>\n",
       "      <td>-0.375357</td>\n",
       "      <td>America</td>\n",
       "    </tr>\n",
       "  </tbody>\n",
       "</table>\n",
       "</div>"
      ],
      "text/plain": [
       "   population      Gdp  surface area       HDI continent\n",
       "1         1.0  7557847      0.000000 -0.152645      None\n",
       "2         0.0  5464774      0.028445 -0.375357    Europe\n",
       "3         0.0  4664844      0.581748 -2.041097    Europe\n",
       "4         0.0  7595784      0.926074 -0.375357   America"
      ]
     },
     "execution_count": 135,
     "metadata": {},
     "output_type": "execute_result"
    }
   ],
   "source": [
    "## to drop a missing value we used df.dropna(subset=['column'],axis=0 or 1,inplace=True)note axis=0 drops the entire row while axis=1 drops the entire column\n",
    "df.dropna(subset=['Gdp'], axis=0, inplace=True)\n",
    "df"
   ]
  },
  {
   "cell_type": "code",
   "execution_count": 91,
   "id": "d36a4333",
   "metadata": {},
   "outputs": [
    {
     "name": "stdout",
     "output_type": "stream",
     "text": [
      "None\n"
     ]
    },
    {
     "name": "stderr",
     "output_type": "stream",
     "text": [
      "C:\\Users\\Admin\\AppData\\Local\\Temp\\ipykernel_7236\\3931083086.py:1: SettingWithCopyWarning: \n",
      "A value is trying to be set on a copy of a slice from a DataFrame\n",
      "\n",
      "See the caveats in the documentation: https://pandas.pydata.org/pandas-docs/stable/user_guide/indexing.html#returning-a-view-versus-a-copy\n",
      "  df['continent'][1]=None\n"
     ]
    }
   ],
   "source": [
    "df['continent'][1]=None\n",
    "df2=df.dropna(subset=['Gdp'], axis=0, inplace=True)\n",
    "print(df2)"
   ]
  },
  {
   "cell_type": "code",
   "execution_count": 89,
   "id": "1bf2edeb",
   "metadata": {},
   "outputs": [
    {
     "name": "stdout",
     "output_type": "stream",
     "text": [
      "(4, 5)\n",
      "<bound method NDFrame._add_numeric_operations.<locals>.mean of    population      Gdp  surface area   HDI continent\n",
      "1      89.906  7557847        734794  0.87      None\n",
      "2      67.543  5464774        713893  0.76    Europe\n",
      "3      23.400  4664844        307330  0.32    Europe\n",
      "4      54.800  7595784         54321  0.76   America>\n"
     ]
    }
   ],
   "source": [
    "print(df.shape)\n",
    "print(df.mean)"
   ]
  },
  {
   "cell_type": "code",
   "execution_count": 52,
   "id": "aee0de91",
   "metadata": {},
   "outputs": [],
   "source": [
    "sc=df[\"Gdp\"].replace(0,643437)"
   ]
  },
  {
   "cell_type": "code",
   "execution_count": 73,
   "id": "9f517ad2",
   "metadata": {},
   "outputs": [
    {
     "name": "stderr",
     "output_type": "stream",
     "text": [
      "C:\\Users\\Admin\\AppData\\Local\\Temp\\ipykernel_7236\\1387921787.py:1: SettingWithCopyWarning: \n",
      "A value is trying to be set on a copy of a slice from a DataFrame\n",
      "\n",
      "See the caveats in the documentation: https://pandas.pydata.org/pandas-docs/stable/user_guide/indexing.html#returning-a-view-versus-a-copy\n",
      "  df['Gdp'][0]=None\n"
     ]
    }
   ],
   "source": [
    "df['Gdp'][0]=None\n",
    "df['']"
   ]
  },
  {
   "cell_type": "code",
   "execution_count": 74,
   "id": "0ff997e4",
   "metadata": {},
   "outputs": [
    {
     "data": {
      "text/html": [
       "<div>\n",
       "<style scoped>\n",
       "    .dataframe tbody tr th:only-of-type {\n",
       "        vertical-align: middle;\n",
       "    }\n",
       "\n",
       "    .dataframe tbody tr th {\n",
       "        vertical-align: top;\n",
       "    }\n",
       "\n",
       "    .dataframe thead th {\n",
       "        text-align: right;\n",
       "    }\n",
       "</style>\n",
       "<table border=\"1\" class=\"dataframe\">\n",
       "  <thead>\n",
       "    <tr style=\"text-align: right;\">\n",
       "      <th></th>\n",
       "      <th>population</th>\n",
       "      <th>Gdp</th>\n",
       "      <th>surface area</th>\n",
       "      <th>HDI</th>\n",
       "      <th>continent</th>\n",
       "    </tr>\n",
       "  </thead>\n",
       "  <tbody>\n",
       "    <tr>\n",
       "      <th>0</th>\n",
       "      <td>34.600</td>\n",
       "      <td>None</td>\n",
       "      <td>636736</td>\n",
       "      <td>0.78</td>\n",
       "      <td>America</td>\n",
       "    </tr>\n",
       "    <tr>\n",
       "      <th>1</th>\n",
       "      <td>89.906</td>\n",
       "      <td>7557847</td>\n",
       "      <td>734794</td>\n",
       "      <td>0.87</td>\n",
       "      <td></td>\n",
       "    </tr>\n",
       "    <tr>\n",
       "      <th>2</th>\n",
       "      <td>67.543</td>\n",
       "      <td>5464774</td>\n",
       "      <td>713893</td>\n",
       "      <td>0.76</td>\n",
       "      <td>Europe</td>\n",
       "    </tr>\n",
       "    <tr>\n",
       "      <th>3</th>\n",
       "      <td>23.400</td>\n",
       "      <td>4664844</td>\n",
       "      <td>307330</td>\n",
       "      <td>0.32</td>\n",
       "      <td>Europe</td>\n",
       "    </tr>\n",
       "    <tr>\n",
       "      <th>4</th>\n",
       "      <td>54.800</td>\n",
       "      <td>7595784</td>\n",
       "      <td>54321</td>\n",
       "      <td>0.76</td>\n",
       "      <td>America</td>\n",
       "    </tr>\n",
       "  </tbody>\n",
       "</table>\n",
       "</div>"
      ],
      "text/plain": [
       "   population      Gdp  surface area   HDI continent\n",
       "0      34.600     None        636736  0.78   America\n",
       "1      89.906  7557847        734794  0.87          \n",
       "2      67.543  5464774        713893  0.76    Europe\n",
       "3      23.400  4664844        307330  0.32    Europe\n",
       "4      54.800  7595784         54321  0.76   America"
      ]
     },
     "execution_count": 74,
     "metadata": {},
     "output_type": "execute_result"
    }
   ],
   "source": [
    "df"
   ]
  },
  {
   "cell_type": "code",
   "execution_count": 84,
   "id": "c95de7ed",
   "metadata": {},
   "outputs": [
    {
     "data": {
      "text/html": [
       "<div>\n",
       "<style scoped>\n",
       "    .dataframe tbody tr th:only-of-type {\n",
       "        vertical-align: middle;\n",
       "    }\n",
       "\n",
       "    .dataframe tbody tr th {\n",
       "        vertical-align: top;\n",
       "    }\n",
       "\n",
       "    .dataframe thead th {\n",
       "        text-align: right;\n",
       "    }\n",
       "</style>\n",
       "<table border=\"1\" class=\"dataframe\">\n",
       "  <thead>\n",
       "    <tr style=\"text-align: right;\">\n",
       "      <th></th>\n",
       "      <th>population</th>\n",
       "      <th>Gdp</th>\n",
       "      <th>surface area</th>\n",
       "      <th>HDI</th>\n",
       "      <th>continent</th>\n",
       "    </tr>\n",
       "  </thead>\n",
       "  <tbody>\n",
       "    <tr>\n",
       "      <th>0</th>\n",
       "      <td>False</td>\n",
       "      <td>True</td>\n",
       "      <td>False</td>\n",
       "      <td>False</td>\n",
       "      <td>False</td>\n",
       "    </tr>\n",
       "    <tr>\n",
       "      <th>1</th>\n",
       "      <td>False</td>\n",
       "      <td>False</td>\n",
       "      <td>False</td>\n",
       "      <td>False</td>\n",
       "      <td>True</td>\n",
       "    </tr>\n",
       "    <tr>\n",
       "      <th>2</th>\n",
       "      <td>False</td>\n",
       "      <td>False</td>\n",
       "      <td>False</td>\n",
       "      <td>False</td>\n",
       "      <td>False</td>\n",
       "    </tr>\n",
       "    <tr>\n",
       "      <th>3</th>\n",
       "      <td>False</td>\n",
       "      <td>False</td>\n",
       "      <td>False</td>\n",
       "      <td>False</td>\n",
       "      <td>False</td>\n",
       "    </tr>\n",
       "    <tr>\n",
       "      <th>4</th>\n",
       "      <td>False</td>\n",
       "      <td>False</td>\n",
       "      <td>False</td>\n",
       "      <td>False</td>\n",
       "      <td>False</td>\n",
       "    </tr>\n",
       "  </tbody>\n",
       "</table>\n",
       "</div>"
      ],
      "text/plain": [
       "   population    Gdp  surface area    HDI  continent\n",
       "0       False   True         False  False      False\n",
       "1       False  False         False  False       True\n",
       "2       False  False         False  False      False\n",
       "3       False  False         False  False      False\n",
       "4       False  False         False  False      False"
      ]
     },
     "execution_count": 84,
     "metadata": {},
     "output_type": "execute_result"
    }
   ],
   "source": [
    "df.isnull()"
   ]
  },
  {
   "cell_type": "code",
   "execution_count": null,
   "id": "95c239fc",
   "metadata": {},
   "outputs": [],
   "source": []
  },
  {
   "cell_type": "code",
   "execution_count": 102,
   "id": "a48daede",
   "metadata": {},
   "outputs": [
    {
     "data": {
      "text/html": [
       "<div>\n",
       "<style scoped>\n",
       "    .dataframe tbody tr th:only-of-type {\n",
       "        vertical-align: middle;\n",
       "    }\n",
       "\n",
       "    .dataframe tbody tr th {\n",
       "        vertical-align: top;\n",
       "    }\n",
       "\n",
       "    .dataframe thead th {\n",
       "        text-align: right;\n",
       "    }\n",
       "</style>\n",
       "<table border=\"1\" class=\"dataframe\">\n",
       "  <thead>\n",
       "    <tr style=\"text-align: right;\">\n",
       "      <th></th>\n",
       "      <th>population</th>\n",
       "      <th>Gdp</th>\n",
       "      <th>surface area</th>\n",
       "      <th>HDI</th>\n",
       "      <th>continent</th>\n",
       "    </tr>\n",
       "  </thead>\n",
       "  <tbody>\n",
       "    <tr>\n",
       "      <th>1</th>\n",
       "      <td>89.906</td>\n",
       "      <td>7557847</td>\n",
       "      <td>734794</td>\n",
       "      <td>0.87</td>\n",
       "      <td>1</td>\n",
       "    </tr>\n",
       "    <tr>\n",
       "      <th>2</th>\n",
       "      <td>67.543</td>\n",
       "      <td>5464774</td>\n",
       "      <td>713893</td>\n",
       "      <td>0.76</td>\n",
       "      <td>Europe</td>\n",
       "    </tr>\n",
       "    <tr>\n",
       "      <th>3</th>\n",
       "      <td>23.400</td>\n",
       "      <td>4664844</td>\n",
       "      <td>307330</td>\n",
       "      <td>0.32</td>\n",
       "      <td>Europe</td>\n",
       "    </tr>\n",
       "    <tr>\n",
       "      <th>4</th>\n",
       "      <td>54.800</td>\n",
       "      <td>7595784</td>\n",
       "      <td>54321</td>\n",
       "      <td>0.76</td>\n",
       "      <td>America</td>\n",
       "    </tr>\n",
       "  </tbody>\n",
       "</table>\n",
       "</div>"
      ],
      "text/plain": [
       "   population      Gdp  surface area   HDI continent\n",
       "1      89.906  7557847        734794  0.87         1\n",
       "2      67.543  5464774        713893  0.76    Europe\n",
       "3      23.400  4664844        307330  0.32    Europe\n",
       "4      54.800  7595784         54321  0.76   America"
      ]
     },
     "execution_count": 102,
     "metadata": {},
     "output_type": "execute_result"
    }
   ],
   "source": [
    "## filling a missing vallue we can use the code fillna()\n",
    "df3=df.fillna(value=1)\n",
    "df3"
   ]
  },
  {
   "cell_type": "code",
   "execution_count": null,
   "id": "fbbd0b08",
   "metadata": {},
   "outputs": [],
   "source": []
  },
  {
   "cell_type": "markdown",
   "id": "47bcb92f",
   "metadata": {},
   "source": [
    "## Data formatting in python"
   ]
  },
  {
   "cell_type": "code",
   "execution_count": 138,
   "id": "c0951dbe",
   "metadata": {},
   "outputs": [
    {
     "name": "stdout",
     "output_type": "stream",
     "text": [
      "1    0.000000\n",
      "2    0.028445\n",
      "3    0.581748\n",
      "4    0.926074\n",
      "Name: surface area, dtype: float64\n"
     ]
    },
    {
     "data": {
      "text/plain": [
       "dtype('float64')"
      ]
     },
     "execution_count": 138,
     "metadata": {},
     "output_type": "execute_result"
    }
   ],
   "source": [
    "## data is usually collected from different places and stored in different formats which brings us to data formatting\n",
    "## data formatting: has to do with bringing data into a common standard of expression which allows users to make meaningful comparison\n",
    "## we can apply calculation to an entire column\n",
    "print(df['surface area'].astype('float'))\n",
    "df['surface area'].dtypes"
   ]
  },
  {
   "cell_type": "code",
   "execution_count": 109,
   "id": "1e4cb522",
   "metadata": {},
   "outputs": [
    {
     "data": {
      "text/plain": [
       "1    734794\n",
       "2    713893\n",
       "3    307330\n",
       "4     54321\n",
       "Name: surface area, dtype: int64"
      ]
     },
     "execution_count": 109,
     "metadata": {},
     "output_type": "execute_result"
    }
   ],
   "source": [
    "df['surface area']"
   ]
  },
  {
   "cell_type": "code",
   "execution_count": 110,
   "id": "14fd7c80",
   "metadata": {},
   "outputs": [
    {
     "data": {
      "text/html": [
       "<div>\n",
       "<style scoped>\n",
       "    .dataframe tbody tr th:only-of-type {\n",
       "        vertical-align: middle;\n",
       "    }\n",
       "\n",
       "    .dataframe tbody tr th {\n",
       "        vertical-align: top;\n",
       "    }\n",
       "\n",
       "    .dataframe thead th {\n",
       "        text-align: right;\n",
       "    }\n",
       "</style>\n",
       "<table border=\"1\" class=\"dataframe\">\n",
       "  <thead>\n",
       "    <tr style=\"text-align: right;\">\n",
       "      <th></th>\n",
       "      <th>population</th>\n",
       "      <th>Gdp</th>\n",
       "      <th>surface area</th>\n",
       "      <th>HDI</th>\n",
       "      <th>continent</th>\n",
       "    </tr>\n",
       "  </thead>\n",
       "  <tbody>\n",
       "    <tr>\n",
       "      <th>1</th>\n",
       "      <td>89.906</td>\n",
       "      <td>7557847</td>\n",
       "      <td>734794</td>\n",
       "      <td>0.87</td>\n",
       "      <td>None</td>\n",
       "    </tr>\n",
       "    <tr>\n",
       "      <th>2</th>\n",
       "      <td>67.543</td>\n",
       "      <td>5464774</td>\n",
       "      <td>713893</td>\n",
       "      <td>0.76</td>\n",
       "      <td>Europe</td>\n",
       "    </tr>\n",
       "    <tr>\n",
       "      <th>3</th>\n",
       "      <td>23.400</td>\n",
       "      <td>4664844</td>\n",
       "      <td>307330</td>\n",
       "      <td>0.32</td>\n",
       "      <td>Europe</td>\n",
       "    </tr>\n",
       "    <tr>\n",
       "      <th>4</th>\n",
       "      <td>54.800</td>\n",
       "      <td>7595784</td>\n",
       "      <td>54321</td>\n",
       "      <td>0.76</td>\n",
       "      <td>America</td>\n",
       "    </tr>\n",
       "  </tbody>\n",
       "</table>\n",
       "</div>"
      ],
      "text/plain": [
       "   population      Gdp  surface area   HDI continent\n",
       "1      89.906  7557847        734794  0.87      None\n",
       "2      67.543  5464774        713893  0.76    Europe\n",
       "3      23.400  4664844        307330  0.32    Europe\n",
       "4      54.800  7595784         54321  0.76   America"
      ]
     },
     "execution_count": 110,
     "metadata": {},
     "output_type": "execute_result"
    }
   ],
   "source": [
    "df"
   ]
  },
  {
   "cell_type": "code",
   "execution_count": 117,
   "id": "9cdc682a",
   "metadata": {},
   "outputs": [
    {
     "data": {
      "text/plain": [
       "1       None\n",
       "2     Europe\n",
       "3     Europe\n",
       "4    America\n",
       "Name: continent, dtype: object"
      ]
     },
     "execution_count": 117,
     "metadata": {},
     "output_type": "execute_result"
    }
   ],
   "source": [
    "df['continent']"
   ]
  },
  {
   "cell_type": "code",
   "execution_count": 113,
   "id": "ead7406c",
   "metadata": {},
   "outputs": [
    {
     "data": {
      "text/plain": [
       "23.4"
      ]
     },
     "execution_count": 113,
     "metadata": {},
     "output_type": "execute_result"
    }
   ],
   "source": [
    "df['population'][3]"
   ]
  },
  {
   "cell_type": "code",
   "execution_count": 111,
   "id": "54fc74c1",
   "metadata": {},
   "outputs": [
    {
     "data": {
      "text/plain": [
       "1    89.906\n",
       "2    67.543\n",
       "3    23.400\n",
       "4    54.800\n",
       "Name: population, dtype: float64"
      ]
     },
     "execution_count": 111,
     "metadata": {},
     "output_type": "execute_result"
    }
   ],
   "source": [
    "df['population']"
   ]
  },
  {
   "cell_type": "markdown",
   "id": "61ad12c0",
   "metadata": {},
   "source": [
    "## Data Normilization in python"
   ]
  },
  {
   "cell_type": "code",
   "execution_count": 166,
   "id": "1d075ce0",
   "metadata": {},
   "outputs": [],
   "source": [
    "## data normalization: is the organization of data to make it look similar across all record or fields.\n",
    "## methods of normalizing data\n",
    "## 1. simple feature scaling: divides all the value with the maximum value.this make all value appear in range of 0 an 1\n",
    "## 2. min-max\n",
    "## 3. zscore\n",
    "\n",
    "## 1. sfc\n",
    "df3=df['population']=df['population']/df['population'].max()\n",
    "## 2. min-max\n",
    "df4=df['surface area']=(df['surface area']-df['surface area'].min())/(df['population'].max()-df['surface area'].min())\n",
    "## 3. zscore\n",
    "df5=df['HDI']=df['HDI']-df['HDI'].mean()/df['HDI']-df['HDI'].std()"
   ]
  },
  {
   "cell_type": "code",
   "execution_count": 164,
   "id": "83a5d33f",
   "metadata": {},
   "outputs": [
    {
     "data": {
      "text/html": [
       "<div>\n",
       "<style scoped>\n",
       "    .dataframe tbody tr th:only-of-type {\n",
       "        vertical-align: middle;\n",
       "    }\n",
       "\n",
       "    .dataframe tbody tr th {\n",
       "        vertical-align: top;\n",
       "    }\n",
       "\n",
       "    .dataframe thead th {\n",
       "        text-align: right;\n",
       "    }\n",
       "</style>\n",
       "<table border=\"1\" class=\"dataframe\">\n",
       "  <thead>\n",
       "    <tr style=\"text-align: right;\">\n",
       "      <th></th>\n",
       "      <th>population</th>\n",
       "      <th>Gdp</th>\n",
       "      <th>surface area</th>\n",
       "      <th>HDI</th>\n",
       "      <th>continent</th>\n",
       "      <th>Gdp_binned</th>\n",
       "    </tr>\n",
       "  </thead>\n",
       "  <tbody>\n",
       "    <tr>\n",
       "      <th>1</th>\n",
       "      <td>1.0</td>\n",
       "      <td>7557847</td>\n",
       "      <td>0.000000</td>\n",
       "      <td>-7.824701</td>\n",
       "      <td>None</td>\n",
       "      <td>high</td>\n",
       "    </tr>\n",
       "    <tr>\n",
       "      <th>2</th>\n",
       "      <td>0.0</td>\n",
       "      <td>5464774</td>\n",
       "      <td>0.028445</td>\n",
       "      <td>-5.731934</td>\n",
       "      <td>Europe</td>\n",
       "      <td>low</td>\n",
       "    </tr>\n",
       "    <tr>\n",
       "      <th>3</th>\n",
       "      <td>0.0</td>\n",
       "      <td>4664844</td>\n",
       "      <td>0.581748</td>\n",
       "      <td>-5.773110</td>\n",
       "      <td>Europe</td>\n",
       "      <td>low</td>\n",
       "    </tr>\n",
       "    <tr>\n",
       "      <th>4</th>\n",
       "      <td>0.0</td>\n",
       "      <td>7595784</td>\n",
       "      <td>0.926074</td>\n",
       "      <td>-5.731934</td>\n",
       "      <td>America</td>\n",
       "      <td>high</td>\n",
       "    </tr>\n",
       "  </tbody>\n",
       "</table>\n",
       "</div>"
      ],
      "text/plain": [
       "   population      Gdp  surface area       HDI continent Gdp_binned\n",
       "1         1.0  7557847      0.000000 -7.824701      None       high\n",
       "2         0.0  5464774      0.028445 -5.731934    Europe        low\n",
       "3         0.0  4664844      0.581748 -5.773110    Europe        low\n",
       "4         0.0  7595784      0.926074 -5.731934   America       high"
      ]
     },
     "execution_count": 164,
     "metadata": {},
     "output_type": "execute_result"
    }
   ],
   "source": [
    "df"
   ]
  },
  {
   "cell_type": "code",
   "execution_count": 141,
   "id": "92286e7a",
   "metadata": {},
   "outputs": [
    {
     "data": {
      "text/plain": [
       "<AxesSubplot:>"
      ]
     },
     "execution_count": 141,
     "metadata": {},
     "output_type": "execute_result"
    },
    {
     "data": {
      "image/png": "[encoded data removed]",
      "text/plain": [
       "<Figure size 640x480 with 1 Axes>"
      ]
     },
     "metadata": {},
     "output_type": "display_data"
    }
   ],
   "source": [
    "df.plot()"
   ]
  },
  {
   "cell_type": "markdown",
   "id": "af4421ef",
   "metadata": {},
   "source": [
    "## Binning python"
   ]
  },
  {
   "cell_type": "code",
   "execution_count": 144,
   "id": "03d3c979",
   "metadata": {},
   "outputs": [],
   "source": [
    "## binning: is when you group data into bins. you can convert numeric into categorial values or group a set of numerical values into a set of bins\n",
    "\n",
    "bin=np.linspace(min(df['Gdp']),max(df['Gdp']),4)\n",
    "group_names=['low','medium','high']\n",
    "df['Gdp_binned']=pd.cut(df['Gdp'],bin,labels=group_names,include_lowest=True)"
   ]
  },
  {
   "cell_type": "code",
   "execution_count": 157,
   "id": "56ae0b1c",
   "metadata": {},
   "outputs": [
    {
     "data": {
      "text/plain": [
       "<AxesSubplot:>"
      ]
     },
     "execution_count": 157,
     "metadata": {},
     "output_type": "execute_result"
    },
    {
     "data": {
      "image/png": "[encoded data removed]",
      "text/plain": [
       "<Figure size 640x480 with 1 Axes>"
      ]
     },
     "metadata": {},
     "output_type": "display_data"
    }
   ],
   "source": [
    "df['Gdp'].hist()"
   ]
  },
  {
   "cell_type": "code",
   "execution_count": 158,
   "id": "928cd167",
   "metadata": {},
   "outputs": [
    {
     "data": {
      "text/html": [
       "<div>\n",
       "<style scoped>\n",
       "    .dataframe tbody tr th:only-of-type {\n",
       "        vertical-align: middle;\n",
       "    }\n",
       "\n",
       "    .dataframe tbody tr th {\n",
       "        vertical-align: top;\n",
       "    }\n",
       "\n",
       "    .dataframe thead th {\n",
       "        text-align: right;\n",
       "    }\n",
       "</style>\n",
       "<table border=\"1\" class=\"dataframe\">\n",
       "  <thead>\n",
       "    <tr style=\"text-align: right;\">\n",
       "      <th></th>\n",
       "      <th>population</th>\n",
       "      <th>Gdp</th>\n",
       "      <th>surface area</th>\n",
       "      <th>HDI</th>\n",
       "      <th>continent</th>\n",
       "      <th>Gdp_binned</th>\n",
       "    </tr>\n",
       "  </thead>\n",
       "  <tbody>\n",
       "    <tr>\n",
       "      <th>1</th>\n",
       "      <td>1.0</td>\n",
       "      <td>7557847</td>\n",
       "      <td>0.000000</td>\n",
       "      <td>-5.851342</td>\n",
       "      <td>None</td>\n",
       "      <td>high</td>\n",
       "    </tr>\n",
       "    <tr>\n",
       "      <th>2</th>\n",
       "      <td>0.0</td>\n",
       "      <td>5464774</td>\n",
       "      <td>0.028445</td>\n",
       "      <td>-3.212762</td>\n",
       "      <td>Europe</td>\n",
       "      <td>low</td>\n",
       "    </tr>\n",
       "    <tr>\n",
       "      <th>3</th>\n",
       "      <td>0.0</td>\n",
       "      <td>4664844</td>\n",
       "      <td>0.581748</td>\n",
       "      <td>-3.278043</td>\n",
       "      <td>Europe</td>\n",
       "      <td>low</td>\n",
       "    </tr>\n",
       "    <tr>\n",
       "      <th>4</th>\n",
       "      <td>0.0</td>\n",
       "      <td>7595784</td>\n",
       "      <td>0.926074</td>\n",
       "      <td>-3.212762</td>\n",
       "      <td>America</td>\n",
       "      <td>high</td>\n",
       "    </tr>\n",
       "  </tbody>\n",
       "</table>\n",
       "</div>"
      ],
      "text/plain": [
       "   population      Gdp  surface area       HDI continent Gdp_binned\n",
       "1         1.0  7557847      0.000000 -5.851342      None       high\n",
       "2         0.0  5464774      0.028445 -3.212762    Europe        low\n",
       "3         0.0  4664844      0.581748 -3.278043    Europe        low\n",
       "4         0.0  7595784      0.926074 -3.212762   America       high"
      ]
     },
     "execution_count": 158,
     "metadata": {},
     "output_type": "execute_result"
    }
   ],
   "source": [
    "df"
   ]
  },
  {
   "cell_type": "markdown",
   "id": "a6fb89f2",
   "metadata": {},
   "source": [
    "## Turning categorial variables into quantitative variables"
   ]
  },
  {
   "cell_type": "code",
   "execution_count": 160,
   "id": "600a31f9",
   "metadata": {},
   "outputs": [
    {
     "data": {
      "text/html": [
       "<div>\n",
       "<style scoped>\n",
       "    .dataframe tbody tr th:only-of-type {\n",
       "        vertical-align: middle;\n",
       "    }\n",
       "\n",
       "    .dataframe tbody tr th {\n",
       "        vertical-align: top;\n",
       "    }\n",
       "\n",
       "    .dataframe thead th {\n",
       "        text-align: right;\n",
       "    }\n",
       "</style>\n",
       "<table border=\"1\" class=\"dataframe\">\n",
       "  <thead>\n",
       "    <tr style=\"text-align: right;\">\n",
       "      <th></th>\n",
       "      <th>population</th>\n",
       "      <th>Gdp</th>\n",
       "      <th>surface area</th>\n",
       "      <th>HDI</th>\n",
       "      <th>continent</th>\n",
       "      <th>Gdp_binned</th>\n",
       "    </tr>\n",
       "  </thead>\n",
       "  <tbody>\n",
       "    <tr>\n",
       "      <th>1</th>\n",
       "      <td>1.0</td>\n",
       "      <td>7557847</td>\n",
       "      <td>0.000000</td>\n",
       "      <td>-5.851342</td>\n",
       "      <td>None</td>\n",
       "      <td>high</td>\n",
       "    </tr>\n",
       "    <tr>\n",
       "      <th>2</th>\n",
       "      <td>0.0</td>\n",
       "      <td>5464774</td>\n",
       "      <td>0.028445</td>\n",
       "      <td>-3.212762</td>\n",
       "      <td>Europe</td>\n",
       "      <td>low</td>\n",
       "    </tr>\n",
       "    <tr>\n",
       "      <th>3</th>\n",
       "      <td>0.0</td>\n",
       "      <td>4664844</td>\n",
       "      <td>0.581748</td>\n",
       "      <td>-3.278043</td>\n",
       "      <td>Europe</td>\n",
       "      <td>low</td>\n",
       "    </tr>\n",
       "    <tr>\n",
       "      <th>4</th>\n",
       "      <td>0.0</td>\n",
       "      <td>7595784</td>\n",
       "      <td>0.926074</td>\n",
       "      <td>-3.212762</td>\n",
       "      <td>America</td>\n",
       "      <td>high</td>\n",
       "    </tr>\n",
       "  </tbody>\n",
       "</table>\n",
       "</div>"
      ],
      "text/plain": [
       "   population      Gdp  surface area       HDI continent Gdp_binned\n",
       "1         1.0  7557847      0.000000 -5.851342      None       high\n",
       "2         0.0  5464774      0.028445 -3.212762    Europe        low\n",
       "3         0.0  4664844      0.581748 -3.278043    Europe        low\n",
       "4         0.0  7595784      0.926074 -3.212762   America       high"
      ]
     },
     "execution_count": 160,
     "metadata": {},
     "output_type": "execute_result"
    }
   ],
   "source": [
    "## problem: most statistical models can not take in object\\strings as input\n",
    "## solution: 1. add dummy variables for each unique category\n",
    "##           2. assign 0 or 1 in each category.this technique is known as one hot encoding.\n",
    "## we can add dummy variables in pandas by using get_dummies() method to convert categorial variables to dummy variables(o or 1).\n",
    "df2=df.copy()\n",
    "df2"
   ]
  },
  {
   "cell_type": "code",
   "execution_count": 167,
   "id": "b53cd55a",
   "metadata": {},
   "outputs": [
    {
     "data": {
      "text/html": [
       "<div>\n",
       "<style scoped>\n",
       "    .dataframe tbody tr th:only-of-type {\n",
       "        vertical-align: middle;\n",
       "    }\n",
       "\n",
       "    .dataframe tbody tr th {\n",
       "        vertical-align: top;\n",
       "    }\n",
       "\n",
       "    .dataframe thead th {\n",
       "        text-align: right;\n",
       "    }\n",
       "</style>\n",
       "<table border=\"1\" class=\"dataframe\">\n",
       "  <thead>\n",
       "    <tr style=\"text-align: right;\">\n",
       "      <th></th>\n",
       "      <th>America</th>\n",
       "      <th>Europe</th>\n",
       "    </tr>\n",
       "  </thead>\n",
       "  <tbody>\n",
       "    <tr>\n",
       "      <th>1</th>\n",
       "      <td>0</td>\n",
       "      <td>0</td>\n",
       "    </tr>\n",
       "    <tr>\n",
       "      <th>2</th>\n",
       "      <td>0</td>\n",
       "      <td>1</td>\n",
       "    </tr>\n",
       "    <tr>\n",
       "      <th>3</th>\n",
       "      <td>0</td>\n",
       "      <td>1</td>\n",
       "    </tr>\n",
       "    <tr>\n",
       "      <th>4</th>\n",
       "      <td>1</td>\n",
       "      <td>0</td>\n",
       "    </tr>\n",
       "  </tbody>\n",
       "</table>\n",
       "</div>"
      ],
      "text/plain": [
       "   America  Europe\n",
       "1        0       0\n",
       "2        0       1\n",
       "3        0       1\n",
       "4        1       0"
      ]
     },
     "execution_count": 167,
     "metadata": {},
     "output_type": "execute_result"
    }
   ],
   "source": [
    "pd.get_dummies(df2['continent'])"
   ]
  },
  {
   "cell_type": "code",
   "execution_count": 168,
   "id": "25a30884",
   "metadata": {},
   "outputs": [
    {
     "data": {
      "text/html": [
       "<div>\n",
       "<style scoped>\n",
       "    .dataframe tbody tr th:only-of-type {\n",
       "        vertical-align: middle;\n",
       "    }\n",
       "\n",
       "    .dataframe tbody tr th {\n",
       "        vertical-align: top;\n",
       "    }\n",
       "\n",
       "    .dataframe thead th {\n",
       "        text-align: right;\n",
       "    }\n",
       "</style>\n",
       "<table border=\"1\" class=\"dataframe\">\n",
       "  <thead>\n",
       "    <tr style=\"text-align: right;\">\n",
       "      <th></th>\n",
       "      <th>population</th>\n",
       "      <th>Gdp</th>\n",
       "      <th>surface area</th>\n",
       "      <th>HDI</th>\n",
       "      <th>continent</th>\n",
       "      <th>Gdp_binned</th>\n",
       "    </tr>\n",
       "  </thead>\n",
       "  <tbody>\n",
       "    <tr>\n",
       "      <th>1</th>\n",
       "      <td>1.0</td>\n",
       "      <td>7557847</td>\n",
       "      <td>0.000000</td>\n",
       "      <td>-5.851342</td>\n",
       "      <td>None</td>\n",
       "      <td>high</td>\n",
       "    </tr>\n",
       "    <tr>\n",
       "      <th>2</th>\n",
       "      <td>0.0</td>\n",
       "      <td>5464774</td>\n",
       "      <td>0.028445</td>\n",
       "      <td>-3.212762</td>\n",
       "      <td>Europe</td>\n",
       "      <td>low</td>\n",
       "    </tr>\n",
       "    <tr>\n",
       "      <th>3</th>\n",
       "      <td>0.0</td>\n",
       "      <td>4664844</td>\n",
       "      <td>0.581748</td>\n",
       "      <td>-3.278043</td>\n",
       "      <td>Europe</td>\n",
       "      <td>low</td>\n",
       "    </tr>\n",
       "    <tr>\n",
       "      <th>4</th>\n",
       "      <td>0.0</td>\n",
       "      <td>7595784</td>\n",
       "      <td>0.926074</td>\n",
       "      <td>-3.212762</td>\n",
       "      <td>America</td>\n",
       "      <td>high</td>\n",
       "    </tr>\n",
       "  </tbody>\n",
       "</table>\n",
       "</div>"
      ],
      "text/plain": [
       "   population      Gdp  surface area       HDI continent Gdp_binned\n",
       "1         1.0  7557847      0.000000 -5.851342      None       high\n",
       "2         0.0  5464774      0.028445 -3.212762    Europe        low\n",
       "3         0.0  4664844      0.581748 -3.278043    Europe        low\n",
       "4         0.0  7595784      0.926074 -3.212762   America       high"
      ]
     },
     "execution_count": 168,
     "metadata": {},
     "output_type": "execute_result"
    }
   ],
   "source": [
    "df2"
   ]
  },
  {
   "cell_type": "code",
   "execution_count": null,
   "id": "c513c4f5",
   "metadata": {},
   "outputs": [],
   "source": []
  }
 ],
 "metadata": {
  "kernelspec": {
   "display_name": "Python 3 (ipykernel)",
   "language": "python",
   "name": "python3"
  },
  "language_info": {
   "codemirror_mode": {
    "name": "ipython",
    "version": 3
   },
   "file_extension": ".py",
   "mimetype": "text/x-python",
   "name": "python",
   "nbconvert_exporter": "python",
   "pygments_lexer": "ipython3",
   "version": "3.9.13"
  }
 },
 "nbformat": 4,
 "nbformat_minor": 5
}
